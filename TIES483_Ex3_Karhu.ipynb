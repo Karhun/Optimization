{
 "cells": [
  {
   "cell_type": "markdown",
   "metadata": {},
   "source": [
    "# Exercise 3\n",
    "TIES483\n",
    "\n",
    "Anette Karhu"
   ]
  },
  {
   "cell_type": "markdown",
   "metadata": {},
   "source": [
    "## Ex. 3.1:\n",
    "Implement a steepest descent algorithm, but do a golden section search to each new search direction. This means that you need to define a single-variable function to determine the step length. Set the length of the interval for doing line search as parameter of the method. Solve above problem using your method."
   ]
  },
  {
   "cell_type": "code",
   "execution_count": 48,
   "metadata": {},
   "outputs": [],
   "source": [
    "import matplotlib.pyplot as plt\n",
    "%matplotlib inline\n",
    "# Function given in assignment to be minimized\n",
    "def func(x):\n",
    "    return x[0]**2+x[1]**2+x[0]+2*x[1]\n"
   ]
  },
  {
   "cell_type": "code",
   "execution_count": 49,
   "metadata": {},
   "outputs": [
    {
     "name": "stdout",
     "output_type": "stream",
     "text": [
      "Golden ratio search length result: 0.7499999960471802\n"
     ]
    }
   ],
   "source": [
    "# Let's use ex.2 function f and golden search method to calculate the step size\n",
    "import math \n",
    "\n",
    "def f(x):\n",
    "    return (1-x)**2 + x\n",
    "\n",
    "def golden_search(a,b,f):\n",
    "    goldenratio = (math.sqrt(5.0)-1.0)/2.0\n",
    "    for i in range(0,100000):\n",
    "        d = goldenratio *(b-a)\n",
    "        x1 = a+d\n",
    "        x2 = b-d\n",
    "        if f(x2) > f(x1):\n",
    "            a = x2      \n",
    "        elif f(x2) < f(x1):\n",
    "            b = x1      \n",
    "    return a+b/2\n",
    "\n",
    "length = golden_search(0,2,f)\n",
    "print('Golden ratio search length result:' ,length)"
   ]
  },
  {
   "cell_type": "code",
   "execution_count": 50,
   "metadata": {},
   "outputs": [],
   "source": [
    "import numpy as np\n",
    "import ad\n",
    "\n",
    "# The steepest decent methdod with golden search step size\n",
    "def gradient_descent_goldsec(f,golden_search_step,accuracy):\n",
    "    f_start = float('Inf')\n",
    "    x = np.array([10.0,-10.0])\n",
    "    f_next = f(x)    \n",
    "    gs_steps = []\n",
    "    while abs(f_start-f_next)>accuracy:\n",
    "        f_start = f_next\n",
    "        direction = -np.array(ad.gh(f)[0](x))\n",
    "        x = x+direction*golden_search_step        \n",
    "        f_next = f(x)\n",
    "        gs_steps.append(x)\n",
    "    return x,f_next, gs_steps"
   ]
  },
  {
   "cell_type": "code",
   "execution_count": 51,
   "metadata": {},
   "outputs": [
    {
     "name": "stdout",
     "output_type": "stream",
     "text": [
      "0.750000006098159\n"
     ]
    }
   ],
   "source": [
    "golden_search_step = golden_search(10.0,-10.0,f)\n",
    "print(golden_search_step)"
   ]
  },
  {
   "cell_type": "code",
   "execution_count": 52,
   "metadata": {},
   "outputs": [
    {
     "name": "stdout",
     "output_type": "stream",
     "text": [
      "Optimal solution is  [-0.49998999 -1.00000858]\n",
      "20\n"
     ]
    }
   ],
   "source": [
    "(x_value,f_value,gs_steps) = gradient_descent_goldsec(func,golden_search_step,0.000000001)\n",
    "print(\"Optimal solution is \",x_value)\n",
    "print(len(gs_steps))"
   ]
  },
  {
   "cell_type": "markdown",
   "metadata": {},
   "source": [
    "### Ex. 2.2:\n",
    "Plot the steps of the steepest descent algorithm implemented at the class (with fixed step lengths) against the steps of a steepest descent algorithm that you implemented above. You can choose any starting point you wish, but not the optimum."
   ]
  },
  {
   "cell_type": "code",
   "execution_count": 53,
   "metadata": {
    "collapsed": true
   },
   "outputs": [],
   "source": [
    "# Let's plot the steepest descent algorithm implemented at the class with fixed step size: (taken from the slides)\n",
    "import numpy as np\n",
    "import ad\n",
    "def steepest_descent(f,start,step,precision):\n",
    "    f_old = float('Inf')\n",
    "    x = np.array(start)\n",
    "    steps = []\n",
    "    f_new = f(x)\n",
    "    d = float('Inf')\n",
    "    while abs(f_old-f_new)>precision:\n",
    "    #while np.linalg.norm(d)>precision:\n",
    "        f_old = f_new\n",
    "        d = -np.array(ad.gh(f)[0](x))\n",
    "        x = x+d*step\n",
    "        f_new = f(x)\n",
    "        steps.append(list(x))\n",
    "    return x,f_new,steps"
   ]
  },
  {
   "cell_type": "code",
   "execution_count": 54,
   "metadata": {},
   "outputs": [
    {
     "name": "stdout",
     "output_type": "stream",
     "text": [
      "Optimal solution is  [-0.49998209 -1.00001535]\n",
      "26\n"
     ]
    }
   ],
   "source": [
    "start = [10.0,-10.0]\n",
    "(x_value,f_value,steps) = steepest_descent(func,start,0.2,0.000000001)\n",
    "print(\"Optimal solution is \",x_value)\n",
    "print(len(steps))"
   ]
  },
  {
   "cell_type": "code",
   "execution_count": 62,
   "metadata": {
    "collapsed": true
   },
   "outputs": [],
   "source": [
    "# Let's plot the steps of the two algorithms with the function from slides slightly modified)\n",
    "import matplotlib.pyplot as plt\n",
    "\n",
    "def steps_plot(steps,start):\n",
    "    vector = np.array([start]+steps).transpose()\n",
    "    plt.plot(vector[0,],vector[1,],'bh')\n",
    "    for label,x,y in zip([str(i) for i in range(len(steps)+1)],vector[0,],vector[1,]):\n",
    "        plt.annotate(label,xy = (x, y))\n",
    "    return plt"
   ]
  },
  {
   "cell_type": "code",
   "execution_count": 63,
   "metadata": {},
   "outputs": [
    {
     "data": {
      "image/png": "[encoded data removed]",
      "text/plain": [
       "<matplotlib.figure.Figure at 0x1eb337c86d8>"
      ]
     },
     "metadata": {},
     "output_type": "display_data"
    }
   ],
   "source": [
    "# The steepest descent algorithm implemented at the class, with fixed step\n",
    "# steps plotted:\n",
    "steps_plot(steps,start).show()"
   ]
  },
  {
   "cell_type": "code",
   "execution_count": 64,
   "metadata": {},
   "outputs": [
    {
     "data": {
      "text/plain": [
       "<module 'matplotlib.pyplot' from 'C:\\\\Users\\\\Anette\\\\Anaconda3\\\\lib\\\\site-packages\\\\matplotlib\\\\pyplot.py'>"
      ]
     },
     "execution_count": 64,
     "metadata": {},
     "output_type": "execute_result"
    },
    {
     "data": {
      "image/png": "[encoded data removed]",
      "text/plain": [
       "<matplotlib.figure.Figure at 0x1eb336c5438>"
      ]
     },
     "metadata": {},
     "output_type": "display_data"
    }
   ],
   "source": [
    "# a steepest descent algorithm with a golden section search\n",
    "# steps plotted\n",
    "steps_plot(gs_steps,[10.0,-10.0])"
   ]
  },
  {
   "cell_type": "code",
   "execution_count": null,
   "metadata": {
    "collapsed": true
   },
   "outputs": [],
   "source": []
  },
  {
   "cell_type": "code",
   "execution_count": null,
   "metadata": {
    "collapsed": true
   },
   "outputs": [],
   "source": []
  }
 ],
 "metadata": {
  "kernelspec": {
   "display_name": "Python 3",
   "language": "python",
   "name": "python3"
  },
  "language_info": {
   "codemirror_mode": {
    "name": "ipython",
    "version": 3
   },
   "file_extension": ".py",
   "mimetype": "text/x-python",
   "name": "python",
   "nbconvert_exporter": "python",
   "pygments_lexer": "ipython3",
   "version": "3.7.3"
  }
 },
 "nbformat": 4,
 "nbformat_minor": 2
}
